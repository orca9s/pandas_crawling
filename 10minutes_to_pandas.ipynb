{
 "cells": [
  {
   "cell_type": "code",
   "execution_count": 1,
   "metadata": {},
   "outputs": [],
   "source": [
    "import numpy as np\n",
    "import pandas as pd"
   ]
  },
  {
   "cell_type": "markdown",
   "metadata": {},
   "source": [
    "### pandas의 버전 확인\n",
    "참고: https://pandas.pydata.org/pandas-docs/stable/getting_started/10min.html"
   ]
  },
  {
   "cell_type": "code",
   "execution_count": 2,
   "metadata": {},
   "outputs": [
    {
     "data": {
      "text/plain": [
       "'0.24.1'"
      ]
     },
     "execution_count": 2,
     "metadata": {},
     "output_type": "execute_result"
    }
   ],
   "source": [
    "pd.__version__"
   ]
  },
  {
   "cell_type": "markdown",
   "metadata": {},
   "source": [
    "## 튜토리얼"
   ]
  },
  {
   "cell_type": "code",
   "execution_count": 3,
   "metadata": {},
   "outputs": [
    {
     "data": {
      "text/plain": [
       "0    1.0\n",
       "1    3.0\n",
       "2    5.0\n",
       "3    NaN\n",
       "4    6.0\n",
       "5    8.0\n",
       "dtype: float64"
      ]
     },
     "execution_count": 3,
     "metadata": {},
     "output_type": "execute_result"
    }
   ],
   "source": [
    "s = pd.Series([1,3,5,np.nan,6,8])\n",
    "s"
   ]
  },
  {
   "cell_type": "markdown",
   "metadata": {},
   "source": [
    "## date_range를 사용하여 날짜 생성"
   ]
  },
  {
   "cell_type": "code",
   "execution_count": 4,
   "metadata": {},
   "outputs": [
    {
     "data": {
      "text/plain": [
       "DatetimeIndex(['2018-03-04', '2018-03-05', '2018-03-06', '2018-03-07',\n",
       "               '2018-03-08', '2018-03-09', '2018-03-10', '2018-03-11',\n",
       "               '2018-03-12', '2018-03-13', '2018-03-14', '2018-03-15',\n",
       "               '2018-03-16', '2018-03-17', '2018-03-18', '2018-03-19',\n",
       "               '2018-03-20', '2018-03-21', '2018-03-22', '2018-03-23'],\n",
       "              dtype='datetime64[ns]', freq='D')"
      ]
     },
     "execution_count": 4,
     "metadata": {},
     "output_type": "execute_result"
    }
   ],
   "source": [
    "dates = pd.date_range('20180304', periods=20)\n",
    "dates"
   ]
  },
  {
   "cell_type": "markdown",
   "metadata": {},
   "source": [
    "### 임의의 배열(array)를생성"
   ]
  },
  {
   "cell_type": "code",
   "execution_count": 5,
   "metadata": {},
   "outputs": [
    {
     "data": {
      "text/plain": [
       "array([[-0.08969354,  0.95464256,  1.09938295,  1.65288768],\n",
       "       [ 1.502855  ,  1.83702481, -1.14558312,  0.77058645],\n",
       "       [ 0.29768374, -1.93340621,  0.18459824,  1.11554366],\n",
       "       [-0.80437345, -1.22392399, -0.46431223,  0.53637923],\n",
       "       [-0.35298449,  0.23601645,  0.04723933, -0.7361121 ],\n",
       "       [-0.34738489,  0.34425056, -0.07188937,  0.09444385]])"
      ]
     },
     "execution_count": 5,
     "metadata": {},
     "output_type": "execute_result"
    }
   ],
   "source": [
    "np.random.randn(6,4)"
   ]
  },
  {
   "cell_type": "markdown",
   "metadata": {},
   "source": [
    "### 임의로 생성한 배열을 데이터 프레임으로 생성"
   ]
  },
  {
   "cell_type": "code",
   "execution_count": 6,
   "metadata": {},
   "outputs": [
    {
     "data": {
      "text/html": [
       "<div>\n",
       "<style scoped>\n",
       "    .dataframe tbody tr th:only-of-type {\n",
       "        vertical-align: middle;\n",
       "    }\n",
       "\n",
       "    .dataframe tbody tr th {\n",
       "        vertical-align: top;\n",
       "    }\n",
       "\n",
       "    .dataframe thead th {\n",
       "        text-align: right;\n",
       "    }\n",
       "</style>\n",
       "<table border=\"1\" class=\"dataframe\">\n",
       "  <thead>\n",
       "    <tr style=\"text-align: right;\">\n",
       "      <th></th>\n",
       "      <th>0</th>\n",
       "      <th>1</th>\n",
       "      <th>2</th>\n",
       "      <th>3</th>\n",
       "    </tr>\n",
       "  </thead>\n",
       "  <tbody>\n",
       "    <tr>\n",
       "      <th>인덱스0</th>\n",
       "      <td>-0.301929</td>\n",
       "      <td>0.543898</td>\n",
       "      <td>0.941315</td>\n",
       "      <td>-0.773378</td>\n",
       "    </tr>\n",
       "    <tr>\n",
       "      <th>인덱스1</th>\n",
       "      <td>-1.325607</td>\n",
       "      <td>-0.633871</td>\n",
       "      <td>-0.031207</td>\n",
       "      <td>0.620107</td>\n",
       "    </tr>\n",
       "    <tr>\n",
       "      <th>인덱스2</th>\n",
       "      <td>-0.609513</td>\n",
       "      <td>-0.236568</td>\n",
       "      <td>-0.723987</td>\n",
       "      <td>0.190791</td>\n",
       "    </tr>\n",
       "    <tr>\n",
       "      <th>인덱스3</th>\n",
       "      <td>-1.544463</td>\n",
       "      <td>0.536337</td>\n",
       "      <td>0.672460</td>\n",
       "      <td>-0.616800</td>\n",
       "    </tr>\n",
       "    <tr>\n",
       "      <th>인덱스4</th>\n",
       "      <td>1.082916</td>\n",
       "      <td>-0.860039</td>\n",
       "      <td>0.553683</td>\n",
       "      <td>1.375890</td>\n",
       "    </tr>\n",
       "    <tr>\n",
       "      <th>인덱스5</th>\n",
       "      <td>0.426813</td>\n",
       "      <td>-0.248675</td>\n",
       "      <td>-0.650023</td>\n",
       "      <td>0.498465</td>\n",
       "    </tr>\n",
       "  </tbody>\n",
       "</table>\n",
       "</div>"
      ],
      "text/plain": [
       "             0         1         2         3\n",
       "인덱스0 -0.301929  0.543898  0.941315 -0.773378\n",
       "인덱스1 -1.325607 -0.633871 -0.031207  0.620107\n",
       "인덱스2 -0.609513 -0.236568 -0.723987  0.190791\n",
       "인덱스3 -1.544463  0.536337  0.672460 -0.616800\n",
       "인덱스4  1.082916 -0.860039  0.553683  1.375890\n",
       "인덱스5  0.426813 -0.248675 -0.650023  0.498465"
      ]
     },
     "execution_count": 6,
     "metadata": {},
     "output_type": "execute_result"
    }
   ],
   "source": [
    "pd.DataFrame(np.random.randn(6, 4), index=['인덱스0', '인덱스1', '인덱스2','인덱스3', '인덱스4', '인덱스5'])"
   ]
  },
  {
   "cell_type": "markdown",
   "metadata": {},
   "source": [
    "## 만약 위에서 생성한 dates를 index로 넣게 된다면?\n",
    "행이 맞지 않기 때문에 valueError: Shoape of passed values is (4, 6) indices imply (4, 20)오류가 발생"
   ]
  },
  {
   "cell_type": "markdown",
   "metadata": {},
   "source": [
    "### 꼭 values의 길이를 일치해야 에러없이 데이터 테이블이 생성된다\n",
    "#### 다른 사람들도 보기 편하도록 데이터 테이블을 만들면 아래와 같이 shape, head를 넣어주자"
   ]
  },
  {
   "cell_type": "code",
   "execution_count": 7,
   "metadata": {},
   "outputs": [
    {
     "name": "stdout",
     "output_type": "stream",
     "text": [
      "(20, 4)\n"
     ]
    },
    {
     "data": {
      "text/html": [
       "<div>\n",
       "<style scoped>\n",
       "    .dataframe tbody tr th:only-of-type {\n",
       "        vertical-align: middle;\n",
       "    }\n",
       "\n",
       "    .dataframe tbody tr th {\n",
       "        vertical-align: top;\n",
       "    }\n",
       "\n",
       "    .dataframe thead th {\n",
       "        text-align: right;\n",
       "    }\n",
       "</style>\n",
       "<table border=\"1\" class=\"dataframe\">\n",
       "  <thead>\n",
       "    <tr style=\"text-align: right;\">\n",
       "      <th></th>\n",
       "      <th>A</th>\n",
       "      <th>B</th>\n",
       "      <th>C</th>\n",
       "      <th>D</th>\n",
       "    </tr>\n",
       "  </thead>\n",
       "  <tbody>\n",
       "    <tr>\n",
       "      <th>2018-03-04</th>\n",
       "      <td>0.615132</td>\n",
       "      <td>-0.024019</td>\n",
       "      <td>0.040619</td>\n",
       "      <td>-0.078311</td>\n",
       "    </tr>\n",
       "    <tr>\n",
       "      <th>2018-03-05</th>\n",
       "      <td>0.761460</td>\n",
       "      <td>-0.834782</td>\n",
       "      <td>0.685667</td>\n",
       "      <td>0.340592</td>\n",
       "    </tr>\n",
       "    <tr>\n",
       "      <th>2018-03-06</th>\n",
       "      <td>-0.893394</td>\n",
       "      <td>-1.164413</td>\n",
       "      <td>-0.192959</td>\n",
       "      <td>-0.088627</td>\n",
       "    </tr>\n",
       "    <tr>\n",
       "      <th>2018-03-07</th>\n",
       "      <td>1.149938</td>\n",
       "      <td>0.104214</td>\n",
       "      <td>-0.840800</td>\n",
       "      <td>0.540714</td>\n",
       "    </tr>\n",
       "    <tr>\n",
       "      <th>2018-03-08</th>\n",
       "      <td>0.810439</td>\n",
       "      <td>0.120844</td>\n",
       "      <td>0.745565</td>\n",
       "      <td>-0.387890</td>\n",
       "    </tr>\n",
       "  </tbody>\n",
       "</table>\n",
       "</div>"
      ],
      "text/plain": [
       "                   A         B         C         D\n",
       "2018-03-04  0.615132 -0.024019  0.040619 -0.078311\n",
       "2018-03-05  0.761460 -0.834782  0.685667  0.340592\n",
       "2018-03-06 -0.893394 -1.164413 -0.192959 -0.088627\n",
       "2018-03-07  1.149938  0.104214 -0.840800  0.540714\n",
       "2018-03-08  0.810439  0.120844  0.745565 -0.387890"
      ]
     },
     "execution_count": 7,
     "metadata": {},
     "output_type": "execute_result"
    }
   ],
   "source": [
    "df = pd.DataFrame(np.random.randn(20, 4), index=dates, columns=['A','B','C','D'])\n",
    "print(df.shape)\n",
    "df.head()"
   ]
  },
  {
   "cell_type": "markdown",
   "metadata": {},
   "source": [
    "### 직렬로 변환할 수 있는 object를 전달하여 DataFrame 생성하기"
   ]
  },
  {
   "cell_type": "code",
   "execution_count": 8,
   "metadata": {},
   "outputs": [
    {
     "name": "stdout",
     "output_type": "stream",
     "text": [
      "(4, 6)\n"
     ]
    },
    {
     "data": {
      "text/html": [
       "<div>\n",
       "<style scoped>\n",
       "    .dataframe tbody tr th:only-of-type {\n",
       "        vertical-align: middle;\n",
       "    }\n",
       "\n",
       "    .dataframe tbody tr th {\n",
       "        vertical-align: top;\n",
       "    }\n",
       "\n",
       "    .dataframe thead th {\n",
       "        text-align: right;\n",
       "    }\n",
       "</style>\n",
       "<table border=\"1\" class=\"dataframe\">\n",
       "  <thead>\n",
       "    <tr style=\"text-align: right;\">\n",
       "      <th></th>\n",
       "      <th>A</th>\n",
       "      <th>B</th>\n",
       "      <th>C</th>\n",
       "      <th>D</th>\n",
       "      <th>E</th>\n",
       "      <th>F</th>\n",
       "    </tr>\n",
       "  </thead>\n",
       "  <tbody>\n",
       "    <tr>\n",
       "      <th>0</th>\n",
       "      <td>1.0</td>\n",
       "      <td>2013-01-02</td>\n",
       "      <td>1.0</td>\n",
       "      <td>3</td>\n",
       "      <td>test</td>\n",
       "      <td>foo</td>\n",
       "    </tr>\n",
       "    <tr>\n",
       "      <th>1</th>\n",
       "      <td>1.0</td>\n",
       "      <td>2013-01-02</td>\n",
       "      <td>1.0</td>\n",
       "      <td>3</td>\n",
       "      <td>train</td>\n",
       "      <td>foo</td>\n",
       "    </tr>\n",
       "    <tr>\n",
       "      <th>2</th>\n",
       "      <td>1.0</td>\n",
       "      <td>2013-01-02</td>\n",
       "      <td>1.0</td>\n",
       "      <td>3</td>\n",
       "      <td>test</td>\n",
       "      <td>foo</td>\n",
       "    </tr>\n",
       "    <tr>\n",
       "      <th>3</th>\n",
       "      <td>1.0</td>\n",
       "      <td>2013-01-02</td>\n",
       "      <td>1.0</td>\n",
       "      <td>3</td>\n",
       "      <td>train</td>\n",
       "      <td>foo</td>\n",
       "    </tr>\n",
       "  </tbody>\n",
       "</table>\n",
       "</div>"
      ],
      "text/plain": [
       "     A          B    C  D      E    F\n",
       "0  1.0 2013-01-02  1.0  3   test  foo\n",
       "1  1.0 2013-01-02  1.0  3  train  foo\n",
       "2  1.0 2013-01-02  1.0  3   test  foo\n",
       "3  1.0 2013-01-02  1.0  3  train  foo"
      ]
     },
     "execution_count": 8,
     "metadata": {},
     "output_type": "execute_result"
    }
   ],
   "source": [
    "df2 = pd.DataFrame({\n",
    "    'A':1.,\n",
    "    'B':pd.Timestamp('20130102'),\n",
    "    'C':pd.Series(1, index=list(range(4)),dtype='float32'),\n",
    "    'D':np.array([3] * 4, dtype='int32'),\n",
    "    'E':pd.Categorical(['test', 'train', 'test', 'train']),\n",
    "    'F': 'foo'\n",
    "})\n",
    "print(df2.shape)\n",
    "df2"
   ]
  },
  {
   "cell_type": "code",
   "execution_count": 9,
   "metadata": {},
   "outputs": [
    {
     "data": {
      "text/plain": [
       "A           float64\n",
       "B    datetime64[ns]\n",
       "C           float32\n",
       "D             int32\n",
       "E          category\n",
       "F            object\n",
       "dtype: object"
      ]
     },
     "execution_count": 9,
     "metadata": {},
     "output_type": "execute_result"
    }
   ],
   "source": [
    "df2.dtypes"
   ]
  },
  {
   "cell_type": "markdown",
   "metadata": {},
   "source": [
    "## EB2: Viewing Data\n",
    "> Data의 값을 찾고 해당 데이터의 변경을 해본다"
   ]
  },
  {
   "cell_type": "markdown",
   "metadata": {},
   "source": [
    "### index 값 찾기"
   ]
  },
  {
   "cell_type": "code",
   "execution_count": 10,
   "metadata": {},
   "outputs": [
    {
     "data": {
      "text/plain": [
       "DatetimeIndex(['2018-03-04', '2018-03-05', '2018-03-06', '2018-03-07',\n",
       "               '2018-03-08', '2018-03-09', '2018-03-10', '2018-03-11',\n",
       "               '2018-03-12', '2018-03-13', '2018-03-14', '2018-03-15',\n",
       "               '2018-03-16', '2018-03-17', '2018-03-18', '2018-03-19',\n",
       "               '2018-03-20', '2018-03-21', '2018-03-22', '2018-03-23'],\n",
       "              dtype='datetime64[ns]', freq='D')"
      ]
     },
     "execution_count": 10,
     "metadata": {},
     "output_type": "execute_result"
    }
   ],
   "source": [
    "df.index"
   ]
  },
  {
   "cell_type": "markdown",
   "metadata": {},
   "source": [
    "### 데이터의 columns의 값 찾기/변경하기"
   ]
  },
  {
   "cell_type": "code",
   "execution_count": 11,
   "metadata": {},
   "outputs": [
    {
     "data": {
      "text/plain": [
       "Index(['A', 'B', 'C', 'D'], dtype='object')"
      ]
     },
     "execution_count": 11,
     "metadata": {},
     "output_type": "execute_result"
    }
   ],
   "source": [
    "df.columns"
   ]
  },
  {
   "cell_type": "markdown",
   "metadata": {},
   "source": [
    "### DataFrame의 요약 정보를 알아보기"
   ]
  },
  {
   "cell_type": "code",
   "execution_count": 12,
   "metadata": {},
   "outputs": [
    {
     "data": {
      "text/html": [
       "<div>\n",
       "<style scoped>\n",
       "    .dataframe tbody tr th:only-of-type {\n",
       "        vertical-align: middle;\n",
       "    }\n",
       "\n",
       "    .dataframe tbody tr th {\n",
       "        vertical-align: top;\n",
       "    }\n",
       "\n",
       "    .dataframe thead th {\n",
       "        text-align: right;\n",
       "    }\n",
       "</style>\n",
       "<table border=\"1\" class=\"dataframe\">\n",
       "  <thead>\n",
       "    <tr style=\"text-align: right;\">\n",
       "      <th></th>\n",
       "      <th>A</th>\n",
       "      <th>B</th>\n",
       "      <th>C</th>\n",
       "      <th>D</th>\n",
       "    </tr>\n",
       "  </thead>\n",
       "  <tbody>\n",
       "    <tr>\n",
       "      <th>count</th>\n",
       "      <td>20.000000</td>\n",
       "      <td>20.000000</td>\n",
       "      <td>20.000000</td>\n",
       "      <td>20.000000</td>\n",
       "    </tr>\n",
       "    <tr>\n",
       "      <th>mean</th>\n",
       "      <td>0.270519</td>\n",
       "      <td>-0.007646</td>\n",
       "      <td>-0.031914</td>\n",
       "      <td>-0.198732</td>\n",
       "    </tr>\n",
       "    <tr>\n",
       "      <th>std</th>\n",
       "      <td>0.883725</td>\n",
       "      <td>0.846515</td>\n",
       "      <td>0.829337</td>\n",
       "      <td>0.728843</td>\n",
       "    </tr>\n",
       "    <tr>\n",
       "      <th>min</th>\n",
       "      <td>-1.439195</td>\n",
       "      <td>-1.591521</td>\n",
       "      <td>-1.954977</td>\n",
       "      <td>-1.353141</td>\n",
       "    </tr>\n",
       "    <tr>\n",
       "      <th>25%</th>\n",
       "      <td>-0.370402</td>\n",
       "      <td>-0.630605</td>\n",
       "      <td>-0.440869</td>\n",
       "      <td>-0.680069</td>\n",
       "    </tr>\n",
       "    <tr>\n",
       "      <th>50%</th>\n",
       "      <td>0.409147</td>\n",
       "      <td>0.023231</td>\n",
       "      <td>0.055756</td>\n",
       "      <td>-0.306167</td>\n",
       "    </tr>\n",
       "    <tr>\n",
       "      <th>75%</th>\n",
       "      <td>0.773705</td>\n",
       "      <td>0.474484</td>\n",
       "      <td>0.550104</td>\n",
       "      <td>0.366193</td>\n",
       "    </tr>\n",
       "    <tr>\n",
       "      <th>max</th>\n",
       "      <td>2.532447</td>\n",
       "      <td>1.835723</td>\n",
       "      <td>1.258518</td>\n",
       "      <td>1.729566</td>\n",
       "    </tr>\n",
       "  </tbody>\n",
       "</table>\n",
       "</div>"
      ],
      "text/plain": [
       "               A          B          C          D\n",
       "count  20.000000  20.000000  20.000000  20.000000\n",
       "mean    0.270519  -0.007646  -0.031914  -0.198732\n",
       "std     0.883725   0.846515   0.829337   0.728843\n",
       "min    -1.439195  -1.591521  -1.954977  -1.353141\n",
       "25%    -0.370402  -0.630605  -0.440869  -0.680069\n",
       "50%     0.409147   0.023231   0.055756  -0.306167\n",
       "75%     0.773705   0.474484   0.550104   0.366193\n",
       "max     2.532447   1.835723   1.258518   1.729566"
      ]
     },
     "execution_count": 12,
     "metadata": {},
     "output_type": "execute_result"
    }
   ],
   "source": [
    "df.describe()"
   ]
  },
  {
   "cell_type": "markdown",
   "metadata": {},
   "source": [
    "### index와 column을 바꿔주는 .T"
   ]
  },
  {
   "cell_type": "code",
   "execution_count": 13,
   "metadata": {},
   "outputs": [
    {
     "data": {
      "text/html": [
       "<div>\n",
       "<style scoped>\n",
       "    .dataframe tbody tr th:only-of-type {\n",
       "        vertical-align: middle;\n",
       "    }\n",
       "\n",
       "    .dataframe tbody tr th {\n",
       "        vertical-align: top;\n",
       "    }\n",
       "\n",
       "    .dataframe thead th {\n",
       "        text-align: right;\n",
       "    }\n",
       "</style>\n",
       "<table border=\"1\" class=\"dataframe\">\n",
       "  <thead>\n",
       "    <tr style=\"text-align: right;\">\n",
       "      <th></th>\n",
       "      <th>2018-03-04 00:00:00</th>\n",
       "      <th>2018-03-05 00:00:00</th>\n",
       "      <th>2018-03-06 00:00:00</th>\n",
       "      <th>2018-03-07 00:00:00</th>\n",
       "      <th>2018-03-08 00:00:00</th>\n",
       "      <th>2018-03-09 00:00:00</th>\n",
       "      <th>2018-03-10 00:00:00</th>\n",
       "      <th>2018-03-11 00:00:00</th>\n",
       "      <th>2018-03-12 00:00:00</th>\n",
       "      <th>2018-03-13 00:00:00</th>\n",
       "      <th>2018-03-14 00:00:00</th>\n",
       "      <th>2018-03-15 00:00:00</th>\n",
       "      <th>2018-03-16 00:00:00</th>\n",
       "      <th>2018-03-17 00:00:00</th>\n",
       "      <th>2018-03-18 00:00:00</th>\n",
       "      <th>2018-03-19 00:00:00</th>\n",
       "      <th>2018-03-20 00:00:00</th>\n",
       "      <th>2018-03-21 00:00:00</th>\n",
       "      <th>2018-03-22 00:00:00</th>\n",
       "      <th>2018-03-23 00:00:00</th>\n",
       "    </tr>\n",
       "  </thead>\n",
       "  <tbody>\n",
       "    <tr>\n",
       "      <th>A</th>\n",
       "      <td>0.615132</td>\n",
       "      <td>0.761460</td>\n",
       "      <td>-0.893394</td>\n",
       "      <td>1.149938</td>\n",
       "      <td>0.810439</td>\n",
       "      <td>0.116675</td>\n",
       "      <td>-0.526721</td>\n",
       "      <td>-1.439195</td>\n",
       "      <td>-0.367912</td>\n",
       "      <td>-0.377872</td>\n",
       "      <td>-0.253922</td>\n",
       "      <td>0.826759</td>\n",
       "      <td>0.749376</td>\n",
       "      <td>0.391902</td>\n",
       "      <td>0.558694</td>\n",
       "      <td>0.426393</td>\n",
       "      <td>1.085532</td>\n",
       "      <td>2.532447</td>\n",
       "      <td>-0.163207</td>\n",
       "      <td>-0.592138</td>\n",
       "    </tr>\n",
       "    <tr>\n",
       "      <th>B</th>\n",
       "      <td>-0.024019</td>\n",
       "      <td>-0.834782</td>\n",
       "      <td>-1.164413</td>\n",
       "      <td>0.104214</td>\n",
       "      <td>0.120844</td>\n",
       "      <td>-1.003177</td>\n",
       "      <td>0.548303</td>\n",
       "      <td>0.845312</td>\n",
       "      <td>-0.114117</td>\n",
       "      <td>0.449878</td>\n",
       "      <td>-1.591521</td>\n",
       "      <td>0.960912</td>\n",
       "      <td>0.067351</td>\n",
       "      <td>-0.141683</td>\n",
       "      <td>-0.020890</td>\n",
       "      <td>0.305568</td>\n",
       "      <td>-0.976237</td>\n",
       "      <td>1.042368</td>\n",
       "      <td>1.835723</td>\n",
       "      <td>-0.562545</td>\n",
       "    </tr>\n",
       "    <tr>\n",
       "      <th>C</th>\n",
       "      <td>0.040619</td>\n",
       "      <td>0.685667</td>\n",
       "      <td>-0.192959</td>\n",
       "      <td>-0.840800</td>\n",
       "      <td>0.745565</td>\n",
       "      <td>-0.261267</td>\n",
       "      <td>0.340950</td>\n",
       "      <td>-1.446329</td>\n",
       "      <td>-0.069174</td>\n",
       "      <td>1.122702</td>\n",
       "      <td>-0.367122</td>\n",
       "      <td>0.531140</td>\n",
       "      <td>-0.662109</td>\n",
       "      <td>1.258518</td>\n",
       "      <td>0.606994</td>\n",
       "      <td>0.244966</td>\n",
       "      <td>0.070894</td>\n",
       "      <td>-0.938509</td>\n",
       "      <td>-1.954977</td>\n",
       "      <td>0.446947</td>\n",
       "    </tr>\n",
       "    <tr>\n",
       "      <th>D</th>\n",
       "      <td>-0.078311</td>\n",
       "      <td>0.340592</td>\n",
       "      <td>-0.088627</td>\n",
       "      <td>0.540714</td>\n",
       "      <td>-0.387890</td>\n",
       "      <td>-1.353141</td>\n",
       "      <td>0.442995</td>\n",
       "      <td>-0.106072</td>\n",
       "      <td>-0.521754</td>\n",
       "      <td>-0.435641</td>\n",
       "      <td>-0.649160</td>\n",
       "      <td>-1.112076</td>\n",
       "      <td>1.729566</td>\n",
       "      <td>0.467958</td>\n",
       "      <td>-0.772798</td>\n",
       "      <td>-0.959256</td>\n",
       "      <td>-0.224445</td>\n",
       "      <td>0.603819</td>\n",
       "      <td>-0.786545</td>\n",
       "      <td>-0.624565</td>\n",
       "    </tr>\n",
       "  </tbody>\n",
       "</table>\n",
       "</div>"
      ],
      "text/plain": [
       "   2018-03-04  2018-03-05  2018-03-06  2018-03-07  2018-03-08  2018-03-09  \\\n",
       "A    0.615132    0.761460   -0.893394    1.149938    0.810439    0.116675   \n",
       "B   -0.024019   -0.834782   -1.164413    0.104214    0.120844   -1.003177   \n",
       "C    0.040619    0.685667   -0.192959   -0.840800    0.745565   -0.261267   \n",
       "D   -0.078311    0.340592   -0.088627    0.540714   -0.387890   -1.353141   \n",
       "\n",
       "   2018-03-10  2018-03-11  2018-03-12  2018-03-13  2018-03-14  2018-03-15  \\\n",
       "A   -0.526721   -1.439195   -0.367912   -0.377872   -0.253922    0.826759   \n",
       "B    0.548303    0.845312   -0.114117    0.449878   -1.591521    0.960912   \n",
       "C    0.340950   -1.446329   -0.069174    1.122702   -0.367122    0.531140   \n",
       "D    0.442995   -0.106072   -0.521754   -0.435641   -0.649160   -1.112076   \n",
       "\n",
       "   2018-03-16  2018-03-17  2018-03-18  2018-03-19  2018-03-20  2018-03-21  \\\n",
       "A    0.749376    0.391902    0.558694    0.426393    1.085532    2.532447   \n",
       "B    0.067351   -0.141683   -0.020890    0.305568   -0.976237    1.042368   \n",
       "C   -0.662109    1.258518    0.606994    0.244966    0.070894   -0.938509   \n",
       "D    1.729566    0.467958   -0.772798   -0.959256   -0.224445    0.603819   \n",
       "\n",
       "   2018-03-22  2018-03-23  \n",
       "A   -0.163207   -0.592138  \n",
       "B    1.835723   -0.562545  \n",
       "C   -1.954977    0.446947  \n",
       "D   -0.786545   -0.624565  "
      ]
     },
     "execution_count": 13,
     "metadata": {},
     "output_type": "execute_result"
    }
   ],
   "source": [
    "df.T"
   ]
  },
  {
   "cell_type": "markdown",
   "metadata": {},
   "source": [
    "### 원하는 index기준으로 다시 정렬하기"
   ]
  },
  {
   "cell_type": "code",
   "execution_count": 14,
   "metadata": {},
   "outputs": [
    {
     "data": {
      "text/html": [
       "<div>\n",
       "<style scoped>\n",
       "    .dataframe tbody tr th:only-of-type {\n",
       "        vertical-align: middle;\n",
       "    }\n",
       "\n",
       "    .dataframe tbody tr th {\n",
       "        vertical-align: top;\n",
       "    }\n",
       "\n",
       "    .dataframe thead th {\n",
       "        text-align: right;\n",
       "    }\n",
       "</style>\n",
       "<table border=\"1\" class=\"dataframe\">\n",
       "  <thead>\n",
       "    <tr style=\"text-align: right;\">\n",
       "      <th></th>\n",
       "      <th>A</th>\n",
       "      <th>B</th>\n",
       "      <th>C</th>\n",
       "      <th>D</th>\n",
       "    </tr>\n",
       "  </thead>\n",
       "  <tbody>\n",
       "    <tr>\n",
       "      <th>2018-03-23</th>\n",
       "      <td>-0.592138</td>\n",
       "      <td>-0.562545</td>\n",
       "      <td>0.446947</td>\n",
       "      <td>-0.624565</td>\n",
       "    </tr>\n",
       "    <tr>\n",
       "      <th>2018-03-22</th>\n",
       "      <td>-0.163207</td>\n",
       "      <td>1.835723</td>\n",
       "      <td>-1.954977</td>\n",
       "      <td>-0.786545</td>\n",
       "    </tr>\n",
       "    <tr>\n",
       "      <th>2018-03-21</th>\n",
       "      <td>2.532447</td>\n",
       "      <td>1.042368</td>\n",
       "      <td>-0.938509</td>\n",
       "      <td>0.603819</td>\n",
       "    </tr>\n",
       "    <tr>\n",
       "      <th>2018-03-20</th>\n",
       "      <td>1.085532</td>\n",
       "      <td>-0.976237</td>\n",
       "      <td>0.070894</td>\n",
       "      <td>-0.224445</td>\n",
       "    </tr>\n",
       "    <tr>\n",
       "      <th>2018-03-19</th>\n",
       "      <td>0.426393</td>\n",
       "      <td>0.305568</td>\n",
       "      <td>0.244966</td>\n",
       "      <td>-0.959256</td>\n",
       "    </tr>\n",
       "  </tbody>\n",
       "</table>\n",
       "</div>"
      ],
      "text/plain": [
       "                   A         B         C         D\n",
       "2018-03-23 -0.592138 -0.562545  0.446947 -0.624565\n",
       "2018-03-22 -0.163207  1.835723 -1.954977 -0.786545\n",
       "2018-03-21  2.532447  1.042368 -0.938509  0.603819\n",
       "2018-03-20  1.085532 -0.976237  0.070894 -0.224445\n",
       "2018-03-19  0.426393  0.305568  0.244966 -0.959256"
      ]
     },
     "execution_count": 14,
     "metadata": {},
     "output_type": "execute_result"
    }
   ],
   "source": [
    "df.sort_index(ascending=False).head()"
   ]
  },
  {
   "cell_type": "markdown",
   "metadata": {},
   "source": [
    "### 특정 column을 기준으로 정렬하기\n",
    "df.sort_values('<기준이 되는 column>')"
   ]
  },
  {
   "cell_type": "code",
   "execution_count": 15,
   "metadata": {},
   "outputs": [
    {
     "data": {
      "text/html": [
       "<div>\n",
       "<style scoped>\n",
       "    .dataframe tbody tr th:only-of-type {\n",
       "        vertical-align: middle;\n",
       "    }\n",
       "\n",
       "    .dataframe tbody tr th {\n",
       "        vertical-align: top;\n",
       "    }\n",
       "\n",
       "    .dataframe thead th {\n",
       "        text-align: right;\n",
       "    }\n",
       "</style>\n",
       "<table border=\"1\" class=\"dataframe\">\n",
       "  <thead>\n",
       "    <tr style=\"text-align: right;\">\n",
       "      <th></th>\n",
       "      <th>A</th>\n",
       "      <th>B</th>\n",
       "      <th>C</th>\n",
       "      <th>D</th>\n",
       "    </tr>\n",
       "  </thead>\n",
       "  <tbody>\n",
       "    <tr>\n",
       "      <th>2018-03-22</th>\n",
       "      <td>-0.163207</td>\n",
       "      <td>1.835723</td>\n",
       "      <td>-1.954977</td>\n",
       "      <td>-0.786545</td>\n",
       "    </tr>\n",
       "    <tr>\n",
       "      <th>2018-03-11</th>\n",
       "      <td>-1.439195</td>\n",
       "      <td>0.845312</td>\n",
       "      <td>-1.446329</td>\n",
       "      <td>-0.106072</td>\n",
       "    </tr>\n",
       "    <tr>\n",
       "      <th>2018-03-21</th>\n",
       "      <td>2.532447</td>\n",
       "      <td>1.042368</td>\n",
       "      <td>-0.938509</td>\n",
       "      <td>0.603819</td>\n",
       "    </tr>\n",
       "    <tr>\n",
       "      <th>2018-03-07</th>\n",
       "      <td>1.149938</td>\n",
       "      <td>0.104214</td>\n",
       "      <td>-0.840800</td>\n",
       "      <td>0.540714</td>\n",
       "    </tr>\n",
       "    <tr>\n",
       "      <th>2018-03-16</th>\n",
       "      <td>0.749376</td>\n",
       "      <td>0.067351</td>\n",
       "      <td>-0.662109</td>\n",
       "      <td>1.729566</td>\n",
       "    </tr>\n",
       "  </tbody>\n",
       "</table>\n",
       "</div>"
      ],
      "text/plain": [
       "                   A         B         C         D\n",
       "2018-03-22 -0.163207  1.835723 -1.954977 -0.786545\n",
       "2018-03-11 -1.439195  0.845312 -1.446329 -0.106072\n",
       "2018-03-21  2.532447  1.042368 -0.938509  0.603819\n",
       "2018-03-07  1.149938  0.104214 -0.840800  0.540714\n",
       "2018-03-16  0.749376  0.067351 -0.662109  1.729566"
      ]
     },
     "execution_count": 15,
     "metadata": {},
     "output_type": "execute_result"
    }
   ],
   "source": [
    "df.sort_values('C').head()"
   ]
  },
  {
   "cell_type": "markdown",
   "metadata": {},
   "source": [
    "## EP3: Selection\n",
    "특정 Column을 선택해서 데이터를 확인\n",
    "2가지 방법은 모두 동일한 결과값을 가지지만 Column명이 \"D-D\"와 같은 경우에는 마이너스(-)연산자로 인식하여(데이터-데이터)로 계산을 한다"
   ]
  },
  {
   "cell_type": "code",
   "execution_count": 16,
   "metadata": {},
   "outputs": [
    {
     "data": {
      "text/plain": [
       "2018-03-04   -0.078311\n",
       "2018-03-05    0.340592\n",
       "2018-03-06   -0.088627\n",
       "Freq: D, Name: D, dtype: float64"
      ]
     },
     "execution_count": 16,
     "metadata": {},
     "output_type": "execute_result"
    }
   ],
   "source": [
    "df['D'].head(3)"
   ]
  },
  {
   "cell_type": "code",
   "execution_count": 17,
   "metadata": {},
   "outputs": [
    {
     "data": {
      "text/plain": [
       "2018-03-04   -0.078311\n",
       "2018-03-05    0.340592\n",
       "2018-03-06   -0.088627\n",
       "Freq: D, Name: D, dtype: float64"
      ]
     },
     "execution_count": 17,
     "metadata": {},
     "output_type": "execute_result"
    }
   ],
   "source": [
    "df.D.head(3)"
   ]
  },
  {
   "cell_type": "markdown",
   "metadata": {},
   "source": [
    "### 슬라이싱하기\n",
    "#### DataFrame에서 0이상 -3미만 값을 출력하기"
   ]
  },
  {
   "cell_type": "code",
   "execution_count": 18,
   "metadata": {},
   "outputs": [
    {
     "data": {
      "text/html": [
       "<div>\n",
       "<style scoped>\n",
       "    .dataframe tbody tr th:only-of-type {\n",
       "        vertical-align: middle;\n",
       "    }\n",
       "\n",
       "    .dataframe tbody tr th {\n",
       "        vertical-align: top;\n",
       "    }\n",
       "\n",
       "    .dataframe thead th {\n",
       "        text-align: right;\n",
       "    }\n",
       "</style>\n",
       "<table border=\"1\" class=\"dataframe\">\n",
       "  <thead>\n",
       "    <tr style=\"text-align: right;\">\n",
       "      <th></th>\n",
       "      <th>A</th>\n",
       "      <th>B</th>\n",
       "      <th>C</th>\n",
       "      <th>D</th>\n",
       "    </tr>\n",
       "  </thead>\n",
       "  <tbody>\n",
       "    <tr>\n",
       "      <th>2018-03-04</th>\n",
       "      <td>0.615132</td>\n",
       "      <td>-0.024019</td>\n",
       "      <td>0.040619</td>\n",
       "      <td>-0.078311</td>\n",
       "    </tr>\n",
       "    <tr>\n",
       "      <th>2018-03-05</th>\n",
       "      <td>0.761460</td>\n",
       "      <td>-0.834782</td>\n",
       "      <td>0.685667</td>\n",
       "      <td>0.340592</td>\n",
       "    </tr>\n",
       "    <tr>\n",
       "      <th>2018-03-06</th>\n",
       "      <td>-0.893394</td>\n",
       "      <td>-1.164413</td>\n",
       "      <td>-0.192959</td>\n",
       "      <td>-0.088627</td>\n",
       "    </tr>\n",
       "  </tbody>\n",
       "</table>\n",
       "</div>"
      ],
      "text/plain": [
       "                   A         B         C         D\n",
       "2018-03-04  0.615132 -0.024019  0.040619 -0.078311\n",
       "2018-03-05  0.761460 -0.834782  0.685667  0.340592\n",
       "2018-03-06 -0.893394 -1.164413 -0.192959 -0.088627"
      ]
     },
     "execution_count": 18,
     "metadata": {},
     "output_type": "execute_result"
    }
   ],
   "source": [
    "df[0:3]"
   ]
  },
  {
   "cell_type": "markdown",
   "metadata": {},
   "source": [
    "### DataFrame에서 A이상 F이하의 값을 출력하기"
   ]
  },
  {
   "cell_type": "code",
   "execution_count": 19,
   "metadata": {},
   "outputs": [
    {
     "data": {
      "text/html": [
       "<div>\n",
       "<style scoped>\n",
       "    .dataframe tbody tr th:only-of-type {\n",
       "        vertical-align: middle;\n",
       "    }\n",
       "\n",
       "    .dataframe tbody tr th {\n",
       "        vertical-align: top;\n",
       "    }\n",
       "\n",
       "    .dataframe thead th {\n",
       "        text-align: right;\n",
       "    }\n",
       "</style>\n",
       "<table border=\"1\" class=\"dataframe\">\n",
       "  <thead>\n",
       "    <tr style=\"text-align: right;\">\n",
       "      <th></th>\n",
       "      <th>A</th>\n",
       "      <th>B</th>\n",
       "      <th>C</th>\n",
       "      <th>D</th>\n",
       "    </tr>\n",
       "  </thead>\n",
       "  <tbody>\n",
       "    <tr>\n",
       "      <th>2018-03-04</th>\n",
       "      <td>0.615132</td>\n",
       "      <td>-0.024019</td>\n",
       "      <td>0.040619</td>\n",
       "      <td>-0.078311</td>\n",
       "    </tr>\n",
       "    <tr>\n",
       "      <th>2018-03-05</th>\n",
       "      <td>0.761460</td>\n",
       "      <td>-0.834782</td>\n",
       "      <td>0.685667</td>\n",
       "      <td>0.340592</td>\n",
       "    </tr>\n",
       "    <tr>\n",
       "      <th>2018-03-06</th>\n",
       "      <td>-0.893394</td>\n",
       "      <td>-1.164413</td>\n",
       "      <td>-0.192959</td>\n",
       "      <td>-0.088627</td>\n",
       "    </tr>\n",
       "  </tbody>\n",
       "</table>\n",
       "</div>"
      ],
      "text/plain": [
       "                   A         B         C         D\n",
       "2018-03-04  0.615132 -0.024019  0.040619 -0.078311\n",
       "2018-03-05  0.761460 -0.834782  0.685667  0.340592\n",
       "2018-03-06 -0.893394 -1.164413 -0.192959 -0.088627"
      ]
     },
     "execution_count": 19,
     "metadata": {},
     "output_type": "execute_result"
    }
   ],
   "source": [
    "df['2018-03-04': '2018-03-06']"
   ]
  },
  {
   "cell_type": "markdown",
   "metadata": {},
   "source": [
    "### 위에서 선언한 변수에 0번째 index들의 값 출력하기"
   ]
  },
  {
   "cell_type": "code",
   "execution_count": 20,
   "metadata": {},
   "outputs": [
    {
     "data": {
      "text/html": [
       "<div>\n",
       "<style scoped>\n",
       "    .dataframe tbody tr th:only-of-type {\n",
       "        vertical-align: middle;\n",
       "    }\n",
       "\n",
       "    .dataframe tbody tr th {\n",
       "        vertical-align: top;\n",
       "    }\n",
       "\n",
       "    .dataframe thead th {\n",
       "        text-align: right;\n",
       "    }\n",
       "</style>\n",
       "<table border=\"1\" class=\"dataframe\">\n",
       "  <thead>\n",
       "    <tr style=\"text-align: right;\">\n",
       "      <th></th>\n",
       "      <th>A</th>\n",
       "      <th>D</th>\n",
       "    </tr>\n",
       "  </thead>\n",
       "  <tbody>\n",
       "    <tr>\n",
       "      <th>2018-03-04</th>\n",
       "      <td>0.615132</td>\n",
       "      <td>-0.078311</td>\n",
       "    </tr>\n",
       "    <tr>\n",
       "      <th>2018-03-05</th>\n",
       "      <td>0.761460</td>\n",
       "      <td>0.340592</td>\n",
       "    </tr>\n",
       "    <tr>\n",
       "      <th>2018-03-06</th>\n",
       "      <td>-0.893394</td>\n",
       "      <td>-0.088627</td>\n",
       "    </tr>\n",
       "    <tr>\n",
       "      <th>2018-03-07</th>\n",
       "      <td>1.149938</td>\n",
       "      <td>0.540714</td>\n",
       "    </tr>\n",
       "    <tr>\n",
       "      <th>2018-03-08</th>\n",
       "      <td>0.810439</td>\n",
       "      <td>-0.387890</td>\n",
       "    </tr>\n",
       "  </tbody>\n",
       "</table>\n",
       "</div>"
      ],
      "text/plain": [
       "                   A         D\n",
       "2018-03-04  0.615132 -0.078311\n",
       "2018-03-05  0.761460  0.340592\n",
       "2018-03-06 -0.893394 -0.088627\n",
       "2018-03-07  1.149938  0.540714\n",
       "2018-03-08  0.810439 -0.387890"
      ]
     },
     "execution_count": 20,
     "metadata": {},
     "output_type": "execute_result"
    }
   ],
   "source": [
    "df.loc[:, ['A', 'D']].head() # 특정 index의 값을 찾기"
   ]
  },
  {
   "cell_type": "code",
   "execution_count": 21,
   "metadata": {},
   "outputs": [
    {
     "data": {
      "text/html": [
       "<div>\n",
       "<style scoped>\n",
       "    .dataframe tbody tr th:only-of-type {\n",
       "        vertical-align: middle;\n",
       "    }\n",
       "\n",
       "    .dataframe tbody tr th {\n",
       "        vertical-align: top;\n",
       "    }\n",
       "\n",
       "    .dataframe thead th {\n",
       "        text-align: right;\n",
       "    }\n",
       "</style>\n",
       "<table border=\"1\" class=\"dataframe\">\n",
       "  <thead>\n",
       "    <tr style=\"text-align: right;\">\n",
       "      <th></th>\n",
       "      <th>A</th>\n",
       "      <th>C</th>\n",
       "    </tr>\n",
       "  </thead>\n",
       "  <tbody>\n",
       "    <tr>\n",
       "      <th>2018-03-11</th>\n",
       "      <td>-1.439195</td>\n",
       "      <td>-1.446329</td>\n",
       "    </tr>\n",
       "    <tr>\n",
       "      <th>2018-03-12</th>\n",
       "      <td>-0.367912</td>\n",
       "      <td>-0.069174</td>\n",
       "    </tr>\n",
       "    <tr>\n",
       "      <th>2018-03-13</th>\n",
       "      <td>-0.377872</td>\n",
       "      <td>1.122702</td>\n",
       "    </tr>\n",
       "    <tr>\n",
       "      <th>2018-03-14</th>\n",
       "      <td>-0.253922</td>\n",
       "      <td>-0.367122</td>\n",
       "    </tr>\n",
       "    <tr>\n",
       "      <th>2018-03-15</th>\n",
       "      <td>0.826759</td>\n",
       "      <td>0.531140</td>\n",
       "    </tr>\n",
       "    <tr>\n",
       "      <th>2018-03-16</th>\n",
       "      <td>0.749376</td>\n",
       "      <td>-0.662109</td>\n",
       "    </tr>\n",
       "  </tbody>\n",
       "</table>\n",
       "</div>"
      ],
      "text/plain": [
       "                   A         C\n",
       "2018-03-11 -1.439195 -1.446329\n",
       "2018-03-12 -0.367912 -0.069174\n",
       "2018-03-13 -0.377872  1.122702\n",
       "2018-03-14 -0.253922 -0.367122\n",
       "2018-03-15  0.826759  0.531140\n",
       "2018-03-16  0.749376 -0.662109"
      ]
     },
     "execution_count": 21,
     "metadata": {},
     "output_type": "execute_result"
    }
   ],
   "source": [
    "df.loc['20180311': '20180316', ['A', 'C']]"
   ]
  },
  {
   "cell_type": "code",
   "execution_count": 22,
   "metadata": {},
   "outputs": [
    {
     "data": {
      "text/plain": [
       "A   -1.439195\n",
       "C   -1.446329\n",
       "Name: 2018-03-11 00:00:00, dtype: float64"
      ]
     },
     "execution_count": 22,
     "metadata": {},
     "output_type": "execute_result"
    }
   ],
   "source": [
    "# 1개의 행만 지정했기 때문에 Series로 출력\n",
    "df.loc['20180311', ['A', 'C']]"
   ]
  },
  {
   "cell_type": "code",
   "execution_count": 23,
   "metadata": {},
   "outputs": [
    {
     "data": {
      "text/plain": [
       "2018-03-11   -1.439195\n",
       "2018-03-12   -0.367912\n",
       "2018-03-13   -0.377872\n",
       "2018-03-14   -0.253922\n",
       "2018-03-15    0.826759\n",
       "2018-03-16    0.749376\n",
       "2018-03-17    0.391902\n",
       "2018-03-18    0.558694\n",
       "2018-03-19    0.426393\n",
       "Freq: D, Name: A, dtype: float64"
      ]
     },
     "execution_count": 23,
     "metadata": {},
     "output_type": "execute_result"
    }
   ],
   "source": [
    "# 행이던 열이던 한줄의 데이터 범위를 선택하면 Series이다.\n",
    "df.loc['20180311': '20180319', 'A']"
   ]
  },
  {
   "cell_type": "markdown",
   "metadata": {},
   "source": [
    "### 세번째 행을 Selection하기"
   ]
  },
  {
   "cell_type": "code",
   "execution_count": 24,
   "metadata": {},
   "outputs": [
    {
     "data": {
      "text/html": [
       "<div>\n",
       "<style scoped>\n",
       "    .dataframe tbody tr th:only-of-type {\n",
       "        vertical-align: middle;\n",
       "    }\n",
       "\n",
       "    .dataframe tbody tr th {\n",
       "        vertical-align: top;\n",
       "    }\n",
       "\n",
       "    .dataframe thead th {\n",
       "        text-align: right;\n",
       "    }\n",
       "</style>\n",
       "<table border=\"1\" class=\"dataframe\">\n",
       "  <thead>\n",
       "    <tr style=\"text-align: right;\">\n",
       "      <th></th>\n",
       "      <th>A</th>\n",
       "      <th>B</th>\n",
       "      <th>C</th>\n",
       "      <th>D</th>\n",
       "    </tr>\n",
       "  </thead>\n",
       "  <tbody>\n",
       "    <tr>\n",
       "      <th>2018-03-04</th>\n",
       "      <td>0.615132</td>\n",
       "      <td>-0.024019</td>\n",
       "      <td>0.040619</td>\n",
       "      <td>-0.078311</td>\n",
       "    </tr>\n",
       "    <tr>\n",
       "      <th>2018-03-05</th>\n",
       "      <td>0.761460</td>\n",
       "      <td>-0.834782</td>\n",
       "      <td>0.685667</td>\n",
       "      <td>0.340592</td>\n",
       "    </tr>\n",
       "    <tr>\n",
       "      <th>2018-03-06</th>\n",
       "      <td>-0.893394</td>\n",
       "      <td>-1.164413</td>\n",
       "      <td>-0.192959</td>\n",
       "      <td>-0.088627</td>\n",
       "    </tr>\n",
       "    <tr>\n",
       "      <th>2018-03-07</th>\n",
       "      <td>1.149938</td>\n",
       "      <td>0.104214</td>\n",
       "      <td>-0.840800</td>\n",
       "      <td>0.540714</td>\n",
       "    </tr>\n",
       "    <tr>\n",
       "      <th>2018-03-08</th>\n",
       "      <td>0.810439</td>\n",
       "      <td>0.120844</td>\n",
       "      <td>0.745565</td>\n",
       "      <td>-0.387890</td>\n",
       "    </tr>\n",
       "  </tbody>\n",
       "</table>\n",
       "</div>"
      ],
      "text/plain": [
       "                   A         B         C         D\n",
       "2018-03-04  0.615132 -0.024019  0.040619 -0.078311\n",
       "2018-03-05  0.761460 -0.834782  0.685667  0.340592\n",
       "2018-03-06 -0.893394 -1.164413 -0.192959 -0.088627\n",
       "2018-03-07  1.149938  0.104214 -0.840800  0.540714\n",
       "2018-03-08  0.810439  0.120844  0.745565 -0.387890"
      ]
     },
     "execution_count": 24,
     "metadata": {},
     "output_type": "execute_result"
    }
   ],
   "source": [
    "df.head()"
   ]
  },
  {
   "cell_type": "code",
   "execution_count": 25,
   "metadata": {},
   "outputs": [
    {
     "data": {
      "text/plain": [
       "A    1.149938\n",
       "B    0.104214\n",
       "C   -0.840800\n",
       "D    0.540714\n",
       "Name: 2018-03-07 00:00:00, dtype: float64"
      ]
     },
     "execution_count": 25,
     "metadata": {},
     "output_type": "execute_result"
    }
   ],
   "source": [
    "df.iloc[3] # index 3번째의 행 값을 출력"
   ]
  },
  {
   "cell_type": "code",
   "execution_count": 26,
   "metadata": {},
   "outputs": [
    {
     "data": {
      "text/html": [
       "<div>\n",
       "<style scoped>\n",
       "    .dataframe tbody tr th:only-of-type {\n",
       "        vertical-align: middle;\n",
       "    }\n",
       "\n",
       "    .dataframe tbody tr th {\n",
       "        vertical-align: top;\n",
       "    }\n",
       "\n",
       "    .dataframe thead th {\n",
       "        text-align: right;\n",
       "    }\n",
       "</style>\n",
       "<table border=\"1\" class=\"dataframe\">\n",
       "  <thead>\n",
       "    <tr style=\"text-align: right;\">\n",
       "      <th></th>\n",
       "      <th>A</th>\n",
       "      <th>B</th>\n",
       "    </tr>\n",
       "  </thead>\n",
       "  <tbody>\n",
       "    <tr>\n",
       "      <th>2018-03-07</th>\n",
       "      <td>1.149938</td>\n",
       "      <td>0.104214</td>\n",
       "    </tr>\n",
       "    <tr>\n",
       "      <th>2018-03-08</th>\n",
       "      <td>0.810439</td>\n",
       "      <td>0.120844</td>\n",
       "    </tr>\n",
       "  </tbody>\n",
       "</table>\n",
       "</div>"
      ],
      "text/plain": [
       "                   A         B\n",
       "2018-03-07  1.149938  0.104214\n",
       "2018-03-08  0.810439  0.120844"
      ]
     },
     "execution_count": 26,
     "metadata": {},
     "output_type": "execute_result"
    }
   ],
   "source": [
    "df.iloc[3:5, 0:2] # 3월 7일부터 3월8일 // AA, BB 인덱스의 값 출력"
   ]
  },
  {
   "cell_type": "code",
   "execution_count": 27,
   "metadata": {},
   "outputs": [
    {
     "data": {
      "text/html": [
       "<div>\n",
       "<style scoped>\n",
       "    .dataframe tbody tr th:only-of-type {\n",
       "        vertical-align: middle;\n",
       "    }\n",
       "\n",
       "    .dataframe tbody tr th {\n",
       "        vertical-align: top;\n",
       "    }\n",
       "\n",
       "    .dataframe thead th {\n",
       "        text-align: right;\n",
       "    }\n",
       "</style>\n",
       "<table border=\"1\" class=\"dataframe\">\n",
       "  <thead>\n",
       "    <tr style=\"text-align: right;\">\n",
       "      <th></th>\n",
       "      <th>A</th>\n",
       "      <th>C</th>\n",
       "    </tr>\n",
       "  </thead>\n",
       "  <tbody>\n",
       "    <tr>\n",
       "      <th>2018-03-05</th>\n",
       "      <td>0.761460</td>\n",
       "      <td>0.685667</td>\n",
       "    </tr>\n",
       "    <tr>\n",
       "      <th>2018-03-06</th>\n",
       "      <td>-0.893394</td>\n",
       "      <td>-0.192959</td>\n",
       "    </tr>\n",
       "    <tr>\n",
       "      <th>2018-03-08</th>\n",
       "      <td>0.810439</td>\n",
       "      <td>0.745565</td>\n",
       "    </tr>\n",
       "  </tbody>\n",
       "</table>\n",
       "</div>"
      ],
      "text/plain": [
       "                   A         C\n",
       "2018-03-05  0.761460  0.685667\n",
       "2018-03-06 -0.893394 -0.192959\n",
       "2018-03-08  0.810439  0.745565"
      ]
     },
     "execution_count": 27,
     "metadata": {},
     "output_type": "execute_result"
    }
   ],
   "source": [
    "df.iloc[[1,2,4], [0,2]]"
   ]
  },
  {
   "cell_type": "markdown",
   "metadata": {},
   "source": [
    "### 명시적으로 모든 행을 출력한다고 해줄 때는 범위가 없더라도 ( : )를 넣어준다"
   ]
  },
  {
   "cell_type": "code",
   "execution_count": 28,
   "metadata": {},
   "outputs": [
    {
     "data": {
      "text/html": [
       "<div>\n",
       "<style scoped>\n",
       "    .dataframe tbody tr th:only-of-type {\n",
       "        vertical-align: middle;\n",
       "    }\n",
       "\n",
       "    .dataframe tbody tr th {\n",
       "        vertical-align: top;\n",
       "    }\n",
       "\n",
       "    .dataframe thead th {\n",
       "        text-align: right;\n",
       "    }\n",
       "</style>\n",
       "<table border=\"1\" class=\"dataframe\">\n",
       "  <thead>\n",
       "    <tr style=\"text-align: right;\">\n",
       "      <th></th>\n",
       "      <th>A</th>\n",
       "      <th>B</th>\n",
       "      <th>C</th>\n",
       "      <th>D</th>\n",
       "    </tr>\n",
       "  </thead>\n",
       "  <tbody>\n",
       "    <tr>\n",
       "      <th>2018-03-05</th>\n",
       "      <td>0.761460</td>\n",
       "      <td>-0.834782</td>\n",
       "      <td>0.685667</td>\n",
       "      <td>0.340592</td>\n",
       "    </tr>\n",
       "    <tr>\n",
       "      <th>2018-03-07</th>\n",
       "      <td>1.149938</td>\n",
       "      <td>0.104214</td>\n",
       "      <td>-0.840800</td>\n",
       "      <td>0.540714</td>\n",
       "    </tr>\n",
       "  </tbody>\n",
       "</table>\n",
       "</div>"
      ],
      "text/plain": [
       "                   A         B         C         D\n",
       "2018-03-05  0.761460 -0.834782  0.685667  0.340592\n",
       "2018-03-07  1.149938  0.104214 -0.840800  0.540714"
      ]
     },
     "execution_count": 28,
     "metadata": {},
     "output_type": "execute_result"
    }
   ],
   "source": [
    "df.iloc[[1,3], :]"
   ]
  },
  {
   "cell_type": "markdown",
   "metadata": {},
   "source": [
    "### Boolean Indexing\n",
    "DataFrame에서 0이상의 값을 찾아보기"
   ]
  },
  {
   "cell_type": "code",
   "execution_count": 29,
   "metadata": {},
   "outputs": [
    {
     "data": {
      "text/plain": [
       "2018-03-04     True\n",
       "2018-03-05     True\n",
       "2018-03-06    False\n",
       "2018-03-07     True\n",
       "2018-03-08     True\n",
       "2018-03-09     True\n",
       "2018-03-10    False\n",
       "2018-03-11    False\n",
       "2018-03-12    False\n",
       "2018-03-13    False\n",
       "2018-03-14    False\n",
       "2018-03-15     True\n",
       "2018-03-16     True\n",
       "2018-03-17     True\n",
       "2018-03-18     True\n",
       "2018-03-19     True\n",
       "2018-03-20     True\n",
       "2018-03-21     True\n",
       "2018-03-22    False\n",
       "2018-03-23    False\n",
       "Freq: D, Name: A, dtype: bool"
      ]
     },
     "execution_count": 29,
     "metadata": {},
     "output_type": "execute_result"
    }
   ],
   "source": [
    "df['A'] > 0"
   ]
  },
  {
   "cell_type": "markdown",
   "metadata": {},
   "source": [
    "### AA인덱스에서 True값만 가져오기"
   ]
  },
  {
   "cell_type": "code",
   "execution_count": 30,
   "metadata": {},
   "outputs": [
    {
     "data": {
      "text/html": [
       "<div>\n",
       "<style scoped>\n",
       "    .dataframe tbody tr th:only-of-type {\n",
       "        vertical-align: middle;\n",
       "    }\n",
       "\n",
       "    .dataframe tbody tr th {\n",
       "        vertical-align: top;\n",
       "    }\n",
       "\n",
       "    .dataframe thead th {\n",
       "        text-align: right;\n",
       "    }\n",
       "</style>\n",
       "<table border=\"1\" class=\"dataframe\">\n",
       "  <thead>\n",
       "    <tr style=\"text-align: right;\">\n",
       "      <th></th>\n",
       "      <th>A</th>\n",
       "      <th>B</th>\n",
       "      <th>C</th>\n",
       "      <th>D</th>\n",
       "    </tr>\n",
       "  </thead>\n",
       "  <tbody>\n",
       "    <tr>\n",
       "      <th>2018-03-04</th>\n",
       "      <td>0.615132</td>\n",
       "      <td>-0.024019</td>\n",
       "      <td>0.040619</td>\n",
       "      <td>-0.078311</td>\n",
       "    </tr>\n",
       "    <tr>\n",
       "      <th>2018-03-05</th>\n",
       "      <td>0.761460</td>\n",
       "      <td>-0.834782</td>\n",
       "      <td>0.685667</td>\n",
       "      <td>0.340592</td>\n",
       "    </tr>\n",
       "    <tr>\n",
       "      <th>2018-03-07</th>\n",
       "      <td>1.149938</td>\n",
       "      <td>0.104214</td>\n",
       "      <td>-0.840800</td>\n",
       "      <td>0.540714</td>\n",
       "    </tr>\n",
       "    <tr>\n",
       "      <th>2018-03-08</th>\n",
       "      <td>0.810439</td>\n",
       "      <td>0.120844</td>\n",
       "      <td>0.745565</td>\n",
       "      <td>-0.387890</td>\n",
       "    </tr>\n",
       "    <tr>\n",
       "      <th>2018-03-09</th>\n",
       "      <td>0.116675</td>\n",
       "      <td>-1.003177</td>\n",
       "      <td>-0.261267</td>\n",
       "      <td>-1.353141</td>\n",
       "    </tr>\n",
       "    <tr>\n",
       "      <th>2018-03-15</th>\n",
       "      <td>0.826759</td>\n",
       "      <td>0.960912</td>\n",
       "      <td>0.531140</td>\n",
       "      <td>-1.112076</td>\n",
       "    </tr>\n",
       "    <tr>\n",
       "      <th>2018-03-16</th>\n",
       "      <td>0.749376</td>\n",
       "      <td>0.067351</td>\n",
       "      <td>-0.662109</td>\n",
       "      <td>1.729566</td>\n",
       "    </tr>\n",
       "    <tr>\n",
       "      <th>2018-03-17</th>\n",
       "      <td>0.391902</td>\n",
       "      <td>-0.141683</td>\n",
       "      <td>1.258518</td>\n",
       "      <td>0.467958</td>\n",
       "    </tr>\n",
       "    <tr>\n",
       "      <th>2018-03-18</th>\n",
       "      <td>0.558694</td>\n",
       "      <td>-0.020890</td>\n",
       "      <td>0.606994</td>\n",
       "      <td>-0.772798</td>\n",
       "    </tr>\n",
       "    <tr>\n",
       "      <th>2018-03-19</th>\n",
       "      <td>0.426393</td>\n",
       "      <td>0.305568</td>\n",
       "      <td>0.244966</td>\n",
       "      <td>-0.959256</td>\n",
       "    </tr>\n",
       "    <tr>\n",
       "      <th>2018-03-20</th>\n",
       "      <td>1.085532</td>\n",
       "      <td>-0.976237</td>\n",
       "      <td>0.070894</td>\n",
       "      <td>-0.224445</td>\n",
       "    </tr>\n",
       "    <tr>\n",
       "      <th>2018-03-21</th>\n",
       "      <td>2.532447</td>\n",
       "      <td>1.042368</td>\n",
       "      <td>-0.938509</td>\n",
       "      <td>0.603819</td>\n",
       "    </tr>\n",
       "  </tbody>\n",
       "</table>\n",
       "</div>"
      ],
      "text/plain": [
       "                   A         B         C         D\n",
       "2018-03-04  0.615132 -0.024019  0.040619 -0.078311\n",
       "2018-03-05  0.761460 -0.834782  0.685667  0.340592\n",
       "2018-03-07  1.149938  0.104214 -0.840800  0.540714\n",
       "2018-03-08  0.810439  0.120844  0.745565 -0.387890\n",
       "2018-03-09  0.116675 -1.003177 -0.261267 -1.353141\n",
       "2018-03-15  0.826759  0.960912  0.531140 -1.112076\n",
       "2018-03-16  0.749376  0.067351 -0.662109  1.729566\n",
       "2018-03-17  0.391902 -0.141683  1.258518  0.467958\n",
       "2018-03-18  0.558694 -0.020890  0.606994 -0.772798\n",
       "2018-03-19  0.426393  0.305568  0.244966 -0.959256\n",
       "2018-03-20  1.085532 -0.976237  0.070894 -0.224445\n",
       "2018-03-21  2.532447  1.042368 -0.938509  0.603819"
      ]
     },
     "execution_count": 30,
     "metadata": {},
     "output_type": "execute_result"
    }
   ],
   "source": [
    "mask = df['A'] > 0\n",
    "df[mask]"
   ]
  },
  {
   "cell_type": "markdown",
   "metadata": {},
   "source": [
    "### df2로 복사하여 새로운 튜토리얼을 진행"
   ]
  },
  {
   "cell_type": "code",
   "execution_count": 31,
   "metadata": {},
   "outputs": [],
   "source": [
    "df2 = df.copy()"
   ]
  },
  {
   "cell_type": "code",
   "execution_count": 32,
   "metadata": {},
   "outputs": [
    {
     "data": {
      "text/html": [
       "<div>\n",
       "<style scoped>\n",
       "    .dataframe tbody tr th:only-of-type {\n",
       "        vertical-align: middle;\n",
       "    }\n",
       "\n",
       "    .dataframe tbody tr th {\n",
       "        vertical-align: top;\n",
       "    }\n",
       "\n",
       "    .dataframe thead th {\n",
       "        text-align: right;\n",
       "    }\n",
       "</style>\n",
       "<table border=\"1\" class=\"dataframe\">\n",
       "  <thead>\n",
       "    <tr style=\"text-align: right;\">\n",
       "      <th></th>\n",
       "      <th>A</th>\n",
       "      <th>B</th>\n",
       "      <th>C</th>\n",
       "      <th>D</th>\n",
       "      <th>E</th>\n",
       "    </tr>\n",
       "  </thead>\n",
       "  <tbody>\n",
       "    <tr>\n",
       "      <th>2018-03-04</th>\n",
       "      <td>0.615132</td>\n",
       "      <td>-0.024019</td>\n",
       "      <td>0.040619</td>\n",
       "      <td>-0.078311</td>\n",
       "      <td>one</td>\n",
       "    </tr>\n",
       "    <tr>\n",
       "      <th>2018-03-05</th>\n",
       "      <td>0.761460</td>\n",
       "      <td>-0.834782</td>\n",
       "      <td>0.685667</td>\n",
       "      <td>0.340592</td>\n",
       "      <td>two</td>\n",
       "    </tr>\n",
       "    <tr>\n",
       "      <th>2018-03-06</th>\n",
       "      <td>-0.893394</td>\n",
       "      <td>-1.164413</td>\n",
       "      <td>-0.192959</td>\n",
       "      <td>-0.088627</td>\n",
       "      <td>three</td>\n",
       "    </tr>\n",
       "    <tr>\n",
       "      <th>2018-03-07</th>\n",
       "      <td>1.149938</td>\n",
       "      <td>0.104214</td>\n",
       "      <td>-0.840800</td>\n",
       "      <td>0.540714</td>\n",
       "      <td>four</td>\n",
       "    </tr>\n",
       "    <tr>\n",
       "      <th>2018-03-08</th>\n",
       "      <td>0.810439</td>\n",
       "      <td>0.120844</td>\n",
       "      <td>0.745565</td>\n",
       "      <td>-0.387890</td>\n",
       "      <td>five</td>\n",
       "    </tr>\n",
       "  </tbody>\n",
       "</table>\n",
       "</div>"
      ],
      "text/plain": [
       "                   A         B         C         D      E\n",
       "2018-03-04  0.615132 -0.024019  0.040619 -0.078311    one\n",
       "2018-03-05  0.761460 -0.834782  0.685667  0.340592    two\n",
       "2018-03-06 -0.893394 -1.164413 -0.192959 -0.088627  three\n",
       "2018-03-07  1.149938  0.104214 -0.840800  0.540714   four\n",
       "2018-03-08  0.810439  0.120844  0.745565 -0.387890   five"
      ]
     },
     "execution_count": 32,
     "metadata": {},
     "output_type": "execute_result"
    }
   ],
   "source": [
    "df2['E'] = [\n",
    "    'one', 'two', 'three', 'four', 'five',\n",
    "    'one', 'two', 'three', 'four', 'five',\n",
    "    'one', 'two', 'three', 'four', 'five',\n",
    "    'one', 'two', 'three', 'four', 'five',\n",
    "]\n",
    "df2.head()"
   ]
  },
  {
   "cell_type": "markdown",
   "metadata": {},
   "source": [
    "### 'one', 'two'에 해당하는 값만 가져오기"
   ]
  },
  {
   "cell_type": "code",
   "execution_count": 33,
   "metadata": {},
   "outputs": [
    {
     "data": {
      "text/html": [
       "<div>\n",
       "<style scoped>\n",
       "    .dataframe tbody tr th:only-of-type {\n",
       "        vertical-align: middle;\n",
       "    }\n",
       "\n",
       "    .dataframe tbody tr th {\n",
       "        vertical-align: top;\n",
       "    }\n",
       "\n",
       "    .dataframe thead th {\n",
       "        text-align: right;\n",
       "    }\n",
       "</style>\n",
       "<table border=\"1\" class=\"dataframe\">\n",
       "  <thead>\n",
       "    <tr style=\"text-align: right;\">\n",
       "      <th></th>\n",
       "      <th>A</th>\n",
       "      <th>B</th>\n",
       "      <th>C</th>\n",
       "      <th>D</th>\n",
       "    </tr>\n",
       "  </thead>\n",
       "  <tbody>\n",
       "    <tr>\n",
       "      <th>2018-03-04</th>\n",
       "      <td>0.615132</td>\n",
       "      <td>-0.024019</td>\n",
       "      <td>0.040619</td>\n",
       "      <td>-0.078311</td>\n",
       "    </tr>\n",
       "    <tr>\n",
       "      <th>2018-03-05</th>\n",
       "      <td>0.761460</td>\n",
       "      <td>-0.834782</td>\n",
       "      <td>0.685667</td>\n",
       "      <td>0.340592</td>\n",
       "    </tr>\n",
       "    <tr>\n",
       "      <th>2018-03-09</th>\n",
       "      <td>0.116675</td>\n",
       "      <td>-1.003177</td>\n",
       "      <td>-0.261267</td>\n",
       "      <td>-1.353141</td>\n",
       "    </tr>\n",
       "    <tr>\n",
       "      <th>2018-03-10</th>\n",
       "      <td>-0.526721</td>\n",
       "      <td>0.548303</td>\n",
       "      <td>0.340950</td>\n",
       "      <td>0.442995</td>\n",
       "    </tr>\n",
       "    <tr>\n",
       "      <th>2018-03-14</th>\n",
       "      <td>-0.253922</td>\n",
       "      <td>-1.591521</td>\n",
       "      <td>-0.367122</td>\n",
       "      <td>-0.649160</td>\n",
       "    </tr>\n",
       "    <tr>\n",
       "      <th>2018-03-15</th>\n",
       "      <td>0.826759</td>\n",
       "      <td>0.960912</td>\n",
       "      <td>0.531140</td>\n",
       "      <td>-1.112076</td>\n",
       "    </tr>\n",
       "    <tr>\n",
       "      <th>2018-03-19</th>\n",
       "      <td>0.426393</td>\n",
       "      <td>0.305568</td>\n",
       "      <td>0.244966</td>\n",
       "      <td>-0.959256</td>\n",
       "    </tr>\n",
       "    <tr>\n",
       "      <th>2018-03-20</th>\n",
       "      <td>1.085532</td>\n",
       "      <td>-0.976237</td>\n",
       "      <td>0.070894</td>\n",
       "      <td>-0.224445</td>\n",
       "    </tr>\n",
       "  </tbody>\n",
       "</table>\n",
       "</div>"
      ],
      "text/plain": [
       "                   A         B         C         D\n",
       "2018-03-04  0.615132 -0.024019  0.040619 -0.078311\n",
       "2018-03-05  0.761460 -0.834782  0.685667  0.340592\n",
       "2018-03-09  0.116675 -1.003177 -0.261267 -1.353141\n",
       "2018-03-10 -0.526721  0.548303  0.340950  0.442995\n",
       "2018-03-14 -0.253922 -1.591521 -0.367122 -0.649160\n",
       "2018-03-15  0.826759  0.960912  0.531140 -1.112076\n",
       "2018-03-19  0.426393  0.305568  0.244966 -0.959256\n",
       "2018-03-20  1.085532 -0.976237  0.070894 -0.224445"
      ]
     },
     "execution_count": 33,
     "metadata": {},
     "output_type": "execute_result"
    }
   ],
   "source": [
    "mask = df2.E.isin(['one', 'two'])\n",
    "df[mask]"
   ]
  },
  {
   "cell_type": "code",
   "execution_count": null,
   "metadata": {},
   "outputs": [],
   "source": []
  }
 ],
 "metadata": {
  "kernelspec": {
   "display_name": "Python 3",
   "language": "python",
   "name": "python3"
  },
  "language_info": {
   "codemirror_mode": {
    "name": "ipython",
    "version": 3
   },
   "file_extension": ".py",
   "mimetype": "text/x-python",
   "name": "python",
   "nbconvert_exporter": "python",
   "pygments_lexer": "ipython3",
   "version": "3.6.5"
  }
 },
 "nbformat": 4,
 "nbformat_minor": 2
}
